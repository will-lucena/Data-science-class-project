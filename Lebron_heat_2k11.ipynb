{
  "nbformat": 4,
  "nbformat_minor": 0,
  "metadata": {
    "colab": {
      "name": "Lebron heat 2k11.ipynb",
      "version": "0.3.2",
      "provenance": [],
      "include_colab_link": true
    },
    "kernelspec": {
      "name": "python3",
      "display_name": "Python 3"
    }
  },
  "cells": [
    {
      "cell_type": "markdown",
      "metadata": {
        "id": "view-in-github",
        "colab_type": "text"
      },
      "source": [
        "<a href=\"https://colab.research.google.com/github/will-lucena/Data-science-class-project/blob/master/Lebron_heat_2k11.ipynb\" target=\"_parent\"><img src=\"https://colab.research.google.com/assets/colab-badge.svg\" alt=\"Open In Colab\"/></a>"
      ]
    },
    {
      "cell_type": "markdown",
      "metadata": {
        "id": "n5UbLmJoX3_v",
        "colab_type": "text"
      },
      "source": [
        "# Importing libs"
      ]
    },
    {
      "cell_type": "code",
      "metadata": {
        "id": "ph00_1DJLazH",
        "colab_type": "code",
        "colab": {}
      },
      "source": [
        "#import numpy as np\n",
        "import pandas as pd\n",
        "#import pandas_profiling as prof\n",
        "#import matplotlib as mpl\n",
        "#import matplotlib.pyplot as plt"
      ],
      "execution_count": 0,
      "outputs": []
    },
    {
      "cell_type": "markdown",
      "metadata": {
        "id": "KYacnSUvYDB_",
        "colab_type": "text"
      },
      "source": [
        "# Loading dataframes (df)"
      ]
    },
    {
      "cell_type": "code",
      "metadata": {
        "id": "xR8QKGAzLeEu",
        "colab_type": "code",
        "colab": {}
      },
      "source": [
        "players_url = \"https://raw.githubusercontent.com/will-lucena/Data-science-class-project/master/Players.csv\"\n",
        "player_data_url = \"https://raw.githubusercontent.com/will-lucena/Data-science-class-project/master/player_data.csv\"\n",
        "season_stats_url = \"https://raw.githubusercontent.com/will-lucena/Data-science-class-project/master/Seasons_Stats.csv\"\n",
        "\n",
        "players_list_data = pd.read_csv(players_url)\n",
        "players_data = pd.read_csv(player_data_url)\n",
        "season_data = pd.read_csv(season_stats_url)"
      ],
      "execution_count": 0,
      "outputs": []
    },
    {
      "cell_type": "markdown",
      "metadata": {
        "id": "RCffzBv0YKnG",
        "colab_type": "text"
      },
      "source": [
        "# Understanding information on players_list df"
      ]
    },
    {
      "cell_type": "code",
      "metadata": {
        "id": "7yzlifBXMbcz",
        "colab_type": "code",
        "colab": {
          "base_uri": "https://localhost:8080/",
          "height": 454
        },
        "outputId": "d7c72f88-9571-412f-a20a-b3d372cd23ee"
      },
      "source": [
        "print(players_list_data.head())\n",
        "print(players_list_data.info())\n",
        "\n",
        "players_list_data[players_list_data['Player'] == 'LeBron James']"
      ],
      "execution_count": 67,
      "outputs": [
        {
          "output_type": "stream",
          "text": [
            "   Unnamed: 0           Player  height  ...    born   birth_city  birth_state\n",
            "0           0  Curly Armstrong   180.0  ...  1918.0          NaN          NaN\n",
            "1           1     Cliff Barker   188.0  ...  1921.0     Yorktown      Indiana\n",
            "2           2    Leo Barnhorst   193.0  ...  1924.0          NaN          NaN\n",
            "3           3       Ed Bartels   196.0  ...  1925.0          NaN          NaN\n",
            "4           4      Ralph Beard   178.0  ...  1927.0  Hardinsburg     Kentucky\n",
            "\n",
            "[5 rows x 8 columns]\n",
            "<class 'pandas.core.frame.DataFrame'>\n",
            "RangeIndex: 3922 entries, 0 to 3921\n",
            "Data columns (total 8 columns):\n",
            "Unnamed: 0     3922 non-null int64\n",
            "Player         3921 non-null object\n",
            "height         3921 non-null float64\n",
            "weight         3921 non-null float64\n",
            "collage        3573 non-null object\n",
            "born           3921 non-null float64\n",
            "birth_city     3452 non-null object\n",
            "birth_state    3439 non-null object\n",
            "dtypes: float64(3), int64(1), object(4)\n",
            "memory usage: 245.2+ KB\n",
            "None\n"
          ],
          "name": "stdout"
        },
        {
          "output_type": "execute_result",
          "data": {
            "text/html": [
              "<div>\n",
              "<style scoped>\n",
              "    .dataframe tbody tr th:only-of-type {\n",
              "        vertical-align: middle;\n",
              "    }\n",
              "\n",
              "    .dataframe tbody tr th {\n",
              "        vertical-align: top;\n",
              "    }\n",
              "\n",
              "    .dataframe thead th {\n",
              "        text-align: right;\n",
              "    }\n",
              "</style>\n",
              "<table border=\"1\" class=\"dataframe\">\n",
              "  <thead>\n",
              "    <tr style=\"text-align: right;\">\n",
              "      <th></th>\n",
              "      <th>Unnamed: 0</th>\n",
              "      <th>Player</th>\n",
              "      <th>height</th>\n",
              "      <th>weight</th>\n",
              "      <th>collage</th>\n",
              "      <th>born</th>\n",
              "      <th>birth_city</th>\n",
              "      <th>birth_state</th>\n",
              "    </tr>\n",
              "  </thead>\n",
              "  <tbody>\n",
              "    <tr>\n",
              "      <th>2944</th>\n",
              "      <td>2944</td>\n",
              "      <td>LeBron James</td>\n",
              "      <td>203.0</td>\n",
              "      <td>113.0</td>\n",
              "      <td>NaN</td>\n",
              "      <td>1984.0</td>\n",
              "      <td>Akron</td>\n",
              "      <td>Ohio</td>\n",
              "    </tr>\n",
              "  </tbody>\n",
              "</table>\n",
              "</div>"
            ],
            "text/plain": [
              "      Unnamed: 0        Player  height  ...    born birth_city  birth_state\n",
              "2944        2944  LeBron James   203.0  ...  1984.0      Akron         Ohio\n",
              "\n",
              "[1 rows x 8 columns]"
            ]
          },
          "metadata": {
            "tags": []
          },
          "execution_count": 67
        }
      ]
    },
    {
      "cell_type": "markdown",
      "metadata": {
        "id": "5Tx0VpPQYe5B",
        "colab_type": "text"
      },
      "source": [
        "# Understanding information on players df"
      ]
    },
    {
      "cell_type": "code",
      "metadata": {
        "id": "G1fDoUQLNq7f",
        "colab_type": "code",
        "colab": {
          "base_uri": "https://localhost:8080/",
          "height": 454
        },
        "outputId": "4cab649b-d812-44ab-bc95-4dc74bcbd357"
      },
      "source": [
        "print(players_data.head())\n",
        "print(players_data.info())\n",
        "players_data[players_data['name'] == 'LeBron James']"
      ],
      "execution_count": 68,
      "outputs": [
        {
          "output_type": "stream",
          "text": [
            "                  name  ...                                college\n",
            "0       Alaa Abdelnaby  ...                        Duke University\n",
            "1      Zaid Abdul-Aziz  ...                  Iowa State University\n",
            "2  Kareem Abdul-Jabbar  ...  University of California, Los Angeles\n",
            "3   Mahmoud Abdul-Rauf  ...             Louisiana State University\n",
            "4    Tariq Abdul-Wahad  ...              San Jose State University\n",
            "\n",
            "[5 rows x 8 columns]\n",
            "<class 'pandas.core.frame.DataFrame'>\n",
            "RangeIndex: 4550 entries, 0 to 4549\n",
            "Data columns (total 8 columns):\n",
            "name          4550 non-null object\n",
            "year_start    4550 non-null int64\n",
            "year_end      4550 non-null int64\n",
            "position      4549 non-null object\n",
            "height        4549 non-null object\n",
            "weight        4544 non-null float64\n",
            "birth_date    4519 non-null object\n",
            "college       4248 non-null object\n",
            "dtypes: float64(1), int64(2), object(5)\n",
            "memory usage: 284.5+ KB\n",
            "None\n"
          ],
          "name": "stdout"
        },
        {
          "output_type": "execute_result",
          "data": {
            "text/html": [
              "<div>\n",
              "<style scoped>\n",
              "    .dataframe tbody tr th:only-of-type {\n",
              "        vertical-align: middle;\n",
              "    }\n",
              "\n",
              "    .dataframe tbody tr th {\n",
              "        vertical-align: top;\n",
              "    }\n",
              "\n",
              "    .dataframe thead th {\n",
              "        text-align: right;\n",
              "    }\n",
              "</style>\n",
              "<table border=\"1\" class=\"dataframe\">\n",
              "  <thead>\n",
              "    <tr style=\"text-align: right;\">\n",
              "      <th></th>\n",
              "      <th>name</th>\n",
              "      <th>year_start</th>\n",
              "      <th>year_end</th>\n",
              "      <th>position</th>\n",
              "      <th>height</th>\n",
              "      <th>weight</th>\n",
              "      <th>birth_date</th>\n",
              "      <th>college</th>\n",
              "    </tr>\n",
              "  </thead>\n",
              "  <tbody>\n",
              "    <tr>\n",
              "      <th>1952</th>\n",
              "      <td>LeBron James</td>\n",
              "      <td>2004</td>\n",
              "      <td>2018</td>\n",
              "      <td>F-G</td>\n",
              "      <td>6-8</td>\n",
              "      <td>250.0</td>\n",
              "      <td>December 30, 1984</td>\n",
              "      <td>NaN</td>\n",
              "    </tr>\n",
              "  </tbody>\n",
              "</table>\n",
              "</div>"
            ],
            "text/plain": [
              "              name  year_start  year_end  ... weight         birth_date  college\n",
              "1952  LeBron James        2004      2018  ...  250.0  December 30, 1984      NaN\n",
              "\n",
              "[1 rows x 8 columns]"
            ]
          },
          "metadata": {
            "tags": []
          },
          "execution_count": 68
        }
      ]
    },
    {
      "cell_type": "markdown",
      "metadata": {
        "id": "q614oQuoYjaI",
        "colab_type": "text"
      },
      "source": [
        "# Understanding information on season df"
      ]
    },
    {
      "cell_type": "code",
      "metadata": {
        "id": "Wkp4kRiONrpr",
        "colab_type": "code",
        "colab": {
          "base_uri": "https://localhost:8080/",
          "height": 1000
        },
        "outputId": "8384bbd1-0800-4642-852c-be417da44623"
      },
      "source": [
        "print(season_data.head())\n",
        "print(season_data.info())\n",
        "lebron_table = season_data[season_data['Player'] == 'LeBron James']\n",
        "lebron_MIA_table = lebron_table[season_data['Tm'] == 'MIA']\n",
        "lebron_MIA_table[:1]"
      ],
      "execution_count": 84,
      "outputs": [
        {
          "output_type": "stream",
          "text": [
            "   Unnamed: 0    Year           Player  Pos   Age  ... STL  BLK  TOV     PF    PTS\n",
            "0           0  1950.0  Curly Armstrong  G-F  31.0  ... NaN  NaN  NaN  217.0  458.0\n",
            "1           1  1950.0     Cliff Barker   SG  29.0  ... NaN  NaN  NaN   99.0  279.0\n",
            "2           2  1950.0    Leo Barnhorst   SF  25.0  ... NaN  NaN  NaN  192.0  438.0\n",
            "3           3  1950.0       Ed Bartels    F  24.0  ... NaN  NaN  NaN   29.0   63.0\n",
            "4           4  1950.0       Ed Bartels    F  24.0  ... NaN  NaN  NaN   27.0   59.0\n",
            "\n",
            "[5 rows x 53 columns]\n",
            "<class 'pandas.core.frame.DataFrame'>\n",
            "RangeIndex: 24691 entries, 0 to 24690\n",
            "Data columns (total 53 columns):\n",
            "Unnamed: 0    24691 non-null int64\n",
            "Year          24624 non-null float64\n",
            "Player        24624 non-null object\n",
            "Pos           24624 non-null object\n",
            "Age           24616 non-null float64\n",
            "Tm            24624 non-null object\n",
            "G             24624 non-null float64\n",
            "GS            18233 non-null float64\n",
            "MP            24138 non-null float64\n",
            "PER           24101 non-null float64\n",
            "TS%           24538 non-null float64\n",
            "3PAr          18839 non-null float64\n",
            "FTr           24525 non-null float64\n",
            "ORB%          20792 non-null float64\n",
            "DRB%          20792 non-null float64\n",
            "TRB%          21571 non-null float64\n",
            "AST%          22555 non-null float64\n",
            "STL%          20792 non-null float64\n",
            "BLK%          20792 non-null float64\n",
            "TOV%          19582 non-null float64\n",
            "USG%          19640 non-null float64\n",
            "blanl         0 non-null float64\n",
            "OWS           24585 non-null float64\n",
            "DWS           24585 non-null float64\n",
            "WS            24585 non-null float64\n",
            "WS/48         24101 non-null float64\n",
            "blank2        0 non-null float64\n",
            "OBPM          20797 non-null float64\n",
            "DBPM          20797 non-null float64\n",
            "BPM           20797 non-null float64\n",
            "VORP          20797 non-null float64\n",
            "FG            24624 non-null float64\n",
            "FGA           24624 non-null float64\n",
            "FG%           24525 non-null float64\n",
            "3P            18927 non-null float64\n",
            "3PA           18927 non-null float64\n",
            "3P%           15416 non-null float64\n",
            "2P            24624 non-null float64\n",
            "2PA           24624 non-null float64\n",
            "2P%           24496 non-null float64\n",
            "eFG%          24525 non-null float64\n",
            "FT            24624 non-null float64\n",
            "FTA           24624 non-null float64\n",
            "FT%           23766 non-null float64\n",
            "ORB           20797 non-null float64\n",
            "DRB           20797 non-null float64\n",
            "TRB           24312 non-null float64\n",
            "AST           24624 non-null float64\n",
            "STL           20797 non-null float64\n",
            "BLK           20797 non-null float64\n",
            "TOV           19645 non-null float64\n",
            "PF            24624 non-null float64\n",
            "PTS           24624 non-null float64\n",
            "dtypes: float64(49), int64(1), object(3)\n",
            "memory usage: 10.0+ MB\n",
            "None\n"
          ],
          "name": "stdout"
        },
        {
          "output_type": "stream",
          "text": [
            "/usr/local/lib/python3.6/dist-packages/ipykernel_launcher.py:4: UserWarning: Boolean Series key will be reindexed to match DataFrame index.\n",
            "  after removing the cwd from sys.path.\n"
          ],
          "name": "stderr"
        },
        {
          "output_type": "execute_result",
          "data": {
            "text/html": [
              "<div>\n",
              "<style scoped>\n",
              "    .dataframe tbody tr th:only-of-type {\n",
              "        vertical-align: middle;\n",
              "    }\n",
              "\n",
              "    .dataframe tbody tr th {\n",
              "        vertical-align: top;\n",
              "    }\n",
              "\n",
              "    .dataframe thead th {\n",
              "        text-align: right;\n",
              "    }\n",
              "</style>\n",
              "<table border=\"1\" class=\"dataframe\">\n",
              "  <thead>\n",
              "    <tr style=\"text-align: right;\">\n",
              "      <th></th>\n",
              "      <th>Unnamed: 0</th>\n",
              "      <th>Year</th>\n",
              "      <th>Player</th>\n",
              "      <th>Pos</th>\n",
              "      <th>Age</th>\n",
              "      <th>Tm</th>\n",
              "      <th>G</th>\n",
              "      <th>GS</th>\n",
              "      <th>MP</th>\n",
              "      <th>PER</th>\n",
              "      <th>TS%</th>\n",
              "      <th>3PAr</th>\n",
              "      <th>FTr</th>\n",
              "      <th>ORB%</th>\n",
              "      <th>DRB%</th>\n",
              "      <th>TRB%</th>\n",
              "      <th>AST%</th>\n",
              "      <th>STL%</th>\n",
              "      <th>BLK%</th>\n",
              "      <th>TOV%</th>\n",
              "      <th>USG%</th>\n",
              "      <th>blanl</th>\n",
              "      <th>OWS</th>\n",
              "      <th>DWS</th>\n",
              "      <th>WS</th>\n",
              "      <th>WS/48</th>\n",
              "      <th>blank2</th>\n",
              "      <th>OBPM</th>\n",
              "      <th>DBPM</th>\n",
              "      <th>BPM</th>\n",
              "      <th>VORP</th>\n",
              "      <th>FG</th>\n",
              "      <th>FGA</th>\n",
              "      <th>FG%</th>\n",
              "      <th>3P</th>\n",
              "      <th>3PA</th>\n",
              "      <th>3P%</th>\n",
              "      <th>2P</th>\n",
              "      <th>2PA</th>\n",
              "      <th>2P%</th>\n",
              "      <th>eFG%</th>\n",
              "      <th>FT</th>\n",
              "      <th>FTA</th>\n",
              "      <th>FT%</th>\n",
              "      <th>ORB</th>\n",
              "      <th>DRB</th>\n",
              "      <th>TRB</th>\n",
              "      <th>AST</th>\n",
              "      <th>STL</th>\n",
              "      <th>BLK</th>\n",
              "      <th>TOV</th>\n",
              "      <th>PF</th>\n",
              "      <th>PTS</th>\n",
              "    </tr>\n",
              "  </thead>\n",
              "  <tbody>\n",
              "    <tr>\n",
              "      <th>20812</th>\n",
              "      <td>20812</td>\n",
              "      <td>2011.0</td>\n",
              "      <td>LeBron James</td>\n",
              "      <td>SF</td>\n",
              "      <td>26.0</td>\n",
              "      <td>MIA</td>\n",
              "      <td>79.0</td>\n",
              "      <td>79.0</td>\n",
              "      <td>3063.0</td>\n",
              "      <td>27.3</td>\n",
              "      <td>0.594</td>\n",
              "      <td>0.188</td>\n",
              "      <td>0.446</td>\n",
              "      <td>3.3</td>\n",
              "      <td>18.7</td>\n",
              "      <td>11.4</td>\n",
              "      <td>34.9</td>\n",
              "      <td>2.1</td>\n",
              "      <td>1.3</td>\n",
              "      <td>13.8</td>\n",
              "      <td>31.5</td>\n",
              "      <td>NaN</td>\n",
              "      <td>10.3</td>\n",
              "      <td>5.3</td>\n",
              "      <td>15.6</td>\n",
              "      <td>0.244</td>\n",
              "      <td>NaN</td>\n",
              "      <td>6.5</td>\n",
              "      <td>2.1</td>\n",
              "      <td>8.6</td>\n",
              "      <td>8.2</td>\n",
              "      <td>758.0</td>\n",
              "      <td>1485.0</td>\n",
              "      <td>0.51</td>\n",
              "      <td>92.0</td>\n",
              "      <td>279.0</td>\n",
              "      <td>0.33</td>\n",
              "      <td>666.0</td>\n",
              "      <td>1206.0</td>\n",
              "      <td>0.552</td>\n",
              "      <td>0.541</td>\n",
              "      <td>503.0</td>\n",
              "      <td>663.0</td>\n",
              "      <td>0.759</td>\n",
              "      <td>80.0</td>\n",
              "      <td>510.0</td>\n",
              "      <td>590.0</td>\n",
              "      <td>554.0</td>\n",
              "      <td>124.0</td>\n",
              "      <td>50.0</td>\n",
              "      <td>284.0</td>\n",
              "      <td>163.0</td>\n",
              "      <td>2111.0</td>\n",
              "    </tr>\n",
              "  </tbody>\n",
              "</table>\n",
              "</div>"
            ],
            "text/plain": [
              "       Unnamed: 0    Year        Player Pos  ...   BLK    TOV     PF     PTS\n",
              "20812       20812  2011.0  LeBron James  SF  ...  50.0  284.0  163.0  2111.0\n",
              "\n",
              "[1 rows x 53 columns]"
            ]
          },
          "metadata": {
            "tags": []
          },
          "execution_count": 84
        }
      ]
    },
    {
      "cell_type": "markdown",
      "metadata": {
        "id": "RkSEhJDnYpW1",
        "colab_type": "text"
      },
      "source": [
        "# Saving information about target columns"
      ]
    },
    {
      "cell_type": "code",
      "metadata": {
        "id": "gI0fBagzWTcy",
        "colab_type": "code",
        "colab": {
          "base_uri": "https://localhost:8080/",
          "height": 663
        },
        "outputId": "c21e5f9f-45a7-46ff-9142-f4c576bfe9c2"
      },
      "source": [
        "mia_table = season_data[season_data['Tm'] == 'MIA']\n",
        "mia_table_2011 = mia_table[mia_table['Year'] == 2011]\n",
        "mia_table_2010 = mia_table[mia_table['Year'] == 2010]\n",
        "print(mia_table_2010)\n",
        "print(mia_table_2011)"
      ],
      "execution_count": 89,
      "outputs": [
        {
          "output_type": "stream",
          "text": [
            "       Unnamed: 0    Year              Player Pos  ...    BLK    TOV     PF     PTS\n",
            "19931       19931  2010.0        Rafer Alston  PG  ...    5.0   34.0   53.0   165.0\n",
            "19938       19938  2010.0        Joel Anthony   C  ...  109.0   45.0  158.0   218.0\n",
            "19945       19945  2010.0       Carlos Arroyo  PG  ...    6.0   54.0  102.0   439.0\n",
            "19963       19963  2010.0     Michael Beasley  PF  ...   49.0  131.0  221.0  1156.0\n",
            "20025       20025  2010.0      Mario Chalmers  PG  ...   12.0  123.0  175.0   521.0\n",
            "20037       20037  2010.0        Daequan Cook  SG  ...   10.0   24.0   50.0   223.0\n",
            "20055       20055  2010.0    Yakhouba Diawara  SG  ...    0.0    3.0    8.0     5.0\n",
            "20142       20142  2010.0       Udonis Haslem  PF  ...   23.0   75.0  174.0   771.0\n",
            "20228       20228  2010.0         James Jones  SF  ...    4.0   11.0   45.0   146.0\n",
            "20264       20264  2010.0     Jamaal Magloire   C  ...   11.0   17.0   59.0    77.0\n",
            "20331       20331  2010.0     Jermaine O'Neal   C  ...   95.0  125.0  212.0   950.0\n",
            "20367       20367  2010.0    Shavlik Randolph  PF  ...    1.0    2.0    9.0    10.0\n",
            "20377       20377  2010.0  Quentin Richardson  SF  ...   18.0   62.0  169.0   678.0\n",
            "20458       20458  2010.0         Dwyane Wade  SG  ...   82.0  252.0  181.0  2045.0\n",
            "20495       20495  2010.0       Dorell Wright  SF  ...   32.0   53.0   94.0   510.0\n",
            "\n",
            "[15 rows x 53 columns]\n",
            "       Unnamed: 0    Year              Player Pos  ...   BLK    TOV     PF     PTS\n",
            "20524       20524  2011.0        Joel Anthony   C  ...  93.0   36.0  194.0   153.0\n",
            "20533       20533  2011.0       Carlos Arroyo  PG  ...   1.0   43.0   60.0   274.0\n",
            "20568       20568  2011.0          Mike Bibby  PG  ...   3.0   32.0   47.0   160.0\n",
            "20582       20582  2011.0          Chris Bosh  PF  ...  49.0  138.0  172.0  1438.0\n",
            "20626       20626  2011.0      Mario Chalmers  PG  ...   7.0   91.0  158.0   447.0\n",
            "20656       20656  2011.0       Erick Dampier   C  ...  47.0   32.0   82.0   128.0\n",
            "20773       20773  2011.0       Udonis Haslem  PF  ...   3.0   14.0   39.0   104.0\n",
            "20794       20794  2011.0         Eddie House  SG  ...   3.0   29.0   68.0   362.0\n",
            "20797       20797  2011.0        Juwan Howard  PF  ...   4.0   25.0   61.0   139.0\n",
            "20802       20802  2011.0  Zydrunas Ilgauskas   C  ...  58.0   52.0  185.0   360.0\n",
            "20812       20812  2011.0        LeBron James  SF  ...  50.0  284.0  163.0  2111.0\n",
            "20840       20840  2011.0         James Jones  SF  ...  19.0   21.0  129.0   475.0\n",
            "20876       20876  2011.0     Jamaal Magloire   C  ...   2.0    5.0   26.0    35.0\n",
            "20900       20900  2011.0         Mike Miller  SG  ...   2.0   41.0   88.0   228.0\n",
            "20959       20959  2011.0      Dexter Pittman   C  ...   0.0    2.0    2.0     2.0\n",
            "21020       21020  2011.0    Jerry Stackhouse  SG  ...   2.0    2.0    3.0    12.0\n",
            "21070       21070  2011.0         Dwyane Wade  SG  ...  87.0  237.0  197.0  1941.0\n",
            "\n",
            "[17 rows x 53 columns]\n"
          ],
          "name": "stdout"
        }
      ]
    }
  ]
}